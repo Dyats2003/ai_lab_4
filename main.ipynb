{
 "cells": [
  {
   "metadata": {
    "jupyter": {
     "is_executing": true
    },
    "ExecuteTime": {
     "start_time": "2024-11-25T10:29:06.739523Z"
    }
   },
   "cell_type": "code",
   "source": [
    "import numpy as np\n",
    "import matplotlib.pyplot as plt\n",
    "from collections import defaultdict\n",
    "from tqdm import tqdm  # Для прогресс-бара\n",
    "\n",
    "# Гиперпараметры\n",
    "NUM_EPISODES = 5000\n",
    "ALPHA = 0.1       # Скорость обучения\n",
    "GAMMA = 0.9       # Дисконтирующий фактор\n",
    "EPSILON = 0.1     # Вероятность случайного действия\n",
    "TARGET_VOLUME = 10  # Целевой объём жидкости в каждом сосуде\n",
    "\n",
    "# Среда\n",
    "class LiquidEnv:\n",
    "    def __init__(self, num_vessels=5, target_volume=TARGET_VOLUME):\n",
    "        self.num_vessels = num_vessels\n",
    "        self.target_volume = target_volume\n",
    "        self.state = None\n",
    "    \n",
    "    def reset(self):\n",
    "        self.state = np.random.randint(1, 20, size=self.num_vessels)\n",
    "        return tuple(self.state)\n",
    "    \n",
    "    def step(self, action):\n",
    "        i, j, v = action\n",
    "        if self.state[i] >= v:  # Переливание возможно только если достаточно жидкости\n",
    "            new_state = list(self.state)\n",
    "            new_state[i] -= v\n",
    "            new_state[j] += v\n",
    "            self.state = tuple(new_state)\n",
    "        reward = -1  # Единичный штраф за действие\n",
    "        done = all(v == self.target_volume for v in self.state)\n",
    "        return self.state, reward, done\n",
    "\n",
    "    def available_actions(self):\n",
    "        # Возвращает все возможные действия для текущего состояния\n",
    "        actions = []\n",
    "        for i in range(self.num_vessels):\n",
    "            for j in range(self.num_vessels):\n",
    "                if i != j and self.state[i] > 0:\n",
    "                    for v in range(1, self.state[i] + 1):\n",
    "                        actions.append((i, j, v))\n",
    "        return actions\n",
    "\n",
    "# Q-обучение\n",
    "def q_learning(env, num_episodes):\n",
    "    q_table = defaultdict(float)\n",
    "    rewards = []\n",
    "    for episode in tqdm(range(num_episodes), desc=\"Обучение агента\"):  # Прогресс-бар\n",
    "        state = env.reset()\n",
    "        total_reward = 0\n",
    "        \n",
    "        while True:\n",
    "            # Получаем доступные действия\n",
    "            actions = env.available_actions()\n",
    "            \n",
    "            # Выбор действия\n",
    "            if np.random.rand() < EPSILON:\n",
    "                action = actions[np.random.choice(len(actions))]\n",
    "            else:\n",
    "                q_values = [q_table[(state, a)] for a in actions]\n",
    "                action = actions[np.argmax(q_values)]\n",
    "            \n",
    "            # Выполнение действия\n",
    "            next_state, reward, done = env.step(action)\n",
    "            total_reward += reward\n",
    "            \n",
    "            # Обновление Q-таблицы\n",
    "            max_next_q = max([q_table[(next_state, a)] for a in env.available_actions()], default=0)\n",
    "            q_table[(state, action)] += ALPHA * (reward + GAMMA * max_next_q - q_table[(state, action)])\n",
    "            \n",
    "            state = next_state\n",
    "            if done:\n",
    "                break\n",
    "        \n",
    "        rewards.append(total_reward)\n",
    "    return rewards\n",
    "\n",
    "# Обучение\n",
    "env = LiquidEnv()\n",
    "rewards = q_learning(env, NUM_EPISODES)\n",
    "\n",
    "# График средней награды\n",
    "window = 100\n",
    "avg_rewards = [np.mean(rewards[i:i+window]) for i in range(len(rewards) - window)]\n",
    "\n",
    "plt.plot(avg_rewards)\n",
    "plt.xlabel('Эпизоды')\n",
    "plt.ylabel('Средняя награда (за последние 100 эпизодов)')\n",
    "plt.title('Обучение агента')\n",
    "plt.show()\n"
   ],
   "id": "598433cfbb3ebab9",
   "outputs": [
    {
     "name": "stderr",
     "output_type": "stream",
     "text": [
      "Обучение агента:   0%|          | 0/5000 [00:00<?, ?it/s]"
     ]
    }
   ],
   "execution_count": null
  },
  {
   "metadata": {},
   "cell_type": "code",
   "outputs": [],
   "execution_count": null,
   "source": "",
   "id": "3010dc4df2320c46"
  }
 ],
 "metadata": {
  "kernelspec": {
   "display_name": "Python 3",
   "language": "python",
   "name": "python3"
  },
  "language_info": {
   "codemirror_mode": {
    "name": "ipython",
    "version": 2
   },
   "file_extension": ".py",
   "mimetype": "text/x-python",
   "name": "python",
   "nbconvert_exporter": "python",
   "pygments_lexer": "ipython2",
   "version": "2.7.6"
  }
 },
 "nbformat": 4,
 "nbformat_minor": 5
}
